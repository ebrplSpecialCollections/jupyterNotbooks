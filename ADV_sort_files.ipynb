{
 "cells": [
  {
   "cell_type": "code",
   "execution_count": 1,
   "metadata": {},
   "outputs": [],
   "source": [
    "import os\n",
    "import shutil\n",
    "import os.path"
   ]
  },
  {
   "cell_type": "code",
   "execution_count": 2,
   "metadata": {},
   "outputs": [],
   "source": [
    "srcpath = \"/Users/eward/Desktop/14-AHACD\"\n",
    "srcfiles = os.listdir(srcpath)\n",
    "\n",
    "destpath = \"/Users/eward/Desktop/14-AHACD\""
   ]
  },
  {
   "cell_type": "code",
   "execution_count": 3,
   "metadata": {},
   "outputs": [],
   "source": [
    "# extract the ten letters from filenames and filter out duplicates\n",
    "destdirs = list(set([filename[0:13] for filename in srcfiles]))"
   ]
  },
  {
   "cell_type": "code",
   "execution_count": 4,
   "metadata": {},
   "outputs": [],
   "source": [
    "def create(dirname, destpath):\n",
    "    full_path = os.path.join(destpath, dirname)\n",
    "    try:\n",
    "        os.mkdir(full_path)\n",
    "    except FileExistsError:\n",
    "        pass\n",
    "    return full_path"
   ]
  },
  {
   "cell_type": "code",
   "execution_count": 5,
   "metadata": {},
   "outputs": [],
   "source": [
    "def move(filename, dirpath):shutil.move(os.path.join(srcpath, filename),dirpath)"
   ]
  },
  {
   "cell_type": "code",
   "execution_count": 6,
   "metadata": {},
   "outputs": [],
   "source": [
    "# create destination directories and store their names along with full paths\n",
    "targets = [(folder, create(folder, destpath)) for folder in destdirs]"
   ]
  },
  {
   "cell_type": "code",
   "execution_count": 7,
   "metadata": {},
   "outputs": [],
   "source": [
    "for dirname, full_path in targets:\n",
    "    for filename in srcfiles:\n",
    "        if dirname == filename[0:13]:\n",
    "            move(filename, full_path)"
   ]
  },
  {
   "cell_type": "code",
   "execution_count": null,
   "metadata": {},
   "outputs": [],
   "source": []
  }
 ],
 "metadata": {
  "kernelspec": {
   "display_name": "Python 3",
   "language": "python",
   "name": "python3"
  },
  "language_info": {
   "codemirror_mode": {
    "name": "ipython",
    "version": 3
   },
   "file_extension": ".py",
   "mimetype": "text/x-python",
   "name": "python",
   "nbconvert_exporter": "python",
   "pygments_lexer": "ipython3",
   "version": "3.7.4"
  }
 },
 "nbformat": 4,
 "nbformat_minor": 2
}
