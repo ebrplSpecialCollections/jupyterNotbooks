{
 "metadata": {
  "language_info": {
   "codemirror_mode": {
    "name": "ipython",
    "version": 3
   },
   "file_extension": ".py",
   "mimetype": "text/x-python",
   "name": "python",
   "nbconvert_exporter": "python",
   "pygments_lexer": "ipython3",
   "version": "3.7.4"
  },
  "orig_nbformat": 2,
  "kernelspec": {
   "name": "python374jvsc74a57bd0aeb386d2892e396f9bcdbb04f45f29f532532ceaa8cd624724945de2f23e88b0",
   "display_name": "Python 3.7.4 64-bit ('base': conda)"
  }
 },
 "nbformat": 4,
 "nbformat_minor": 2,
 "cells": [
  {
   "cell_type": "code",
   "execution_count": 1,
   "metadata": {},
   "outputs": [],
   "source": [
    "import pandas as pd\n",
    "from pathlib import Path"
   ]
  },
  {
   "cell_type": "code",
   "execution_count": 2,
   "metadata": {},
   "outputs": [
    {
     "output_type": "stream",
     "name": "stdout",
     "text": [
      "     dc.title dc.identifier  \\\n0  1975-05-16       wafb001   \n1  1975-10-28       wafb002   \n2  1976-01-02       wafb003   \n3  1976-01-03       wafb004   \n4  1976-01-08       wafb005   \n\n                                      dc.description   dc.date top_container  \\\n0  M.C. Perry, former textbook salesman discusses...  05/16/75         BR-01   \n1                                                NaN  10/28/75         BR-01   \n2  Aerial views of downtown and the river.  Car i...  01/02/76           NaN   \n3   Nursing School, preparing for shortage of nur...  01/03/76         BR-01   \n4   Southern University basketball game, auto ins...  01/08/76         BR-01   \n\n   child_indicator  \n0              1.0  \n1              2.0  \n2              3.0  \n3              4.0  \n4              5.0  \n"
     ]
    }
   ],
   "source": [
    "df = pd.read_csv(\"1976wafbFilmsNewMetadata.csv\")\n",
    "print(df.head())"
   ]
  },
  {
   "cell_type": "code",
   "execution_count": 3,
   "metadata": {},
   "outputs": [],
   "source": [
    "path = '/Volumes/BRR-1/BR_01_WAFB/wafb{}.csv'\n",
    "\n",
    "rows = len(df)\n",
    "for i in range(0, rows):\n",
    "   df.groupby(level=0) \\\n",
    "      .apply(lambda x: x.to_csv(path.format(x.name), index=False))"
   ]
  },
  {
   "cell_type": "code",
   "execution_count": null,
   "metadata": {},
   "outputs": [],
   "source": []
  }
 ]
}