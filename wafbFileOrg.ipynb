{
 "metadata": {
  "language_info": {
   "codemirror_mode": {
    "name": "ipython",
    "version": 3
   },
   "file_extension": ".py",
   "mimetype": "text/x-python",
   "name": "python",
   "nbconvert_exporter": "python",
   "pygments_lexer": "ipython3",
   "version": "3.7.4-final"
  },
  "orig_nbformat": 2,
  "kernelspec": {
   "name": "python_defaultSpec_1618249333139",
   "display_name": "Python 3.7.4 64-bit ('base': conda)"
  }
 },
 "nbformat": 4,
 "nbformat_minor": 2,
 "cells": [
  {
   "cell_type": "code",
   "execution_count": 1,
   "metadata": {},
   "outputs": [],
   "source": [
    "import os\n",
    "import shutil   "
   ]
  },
  {
   "cell_type": "code",
   "execution_count": 2,
   "metadata": {},
   "outputs": [],
   "source": [
    "srcpath = \"/Volumes/BRR-1/BR_01_WAFB/BR-01/MOV\"\n",
    "srcfiles = os.listdir(srcpath)"
   ]
  },
  {
   "cell_type": "code",
   "execution_count": 3,
   "metadata": {},
   "outputs": [],
   "source": [
    "destpath = \"/Volumes/BRR-1/BR_01_WAFB/BR-01/MOV\""
   ]
  },
  {
   "cell_type": "code",
   "execution_count": 4,
   "metadata": {},
   "outputs": [],
   "source": [
    "destdirs =list(set([filename[10:17] for filename in srcfiles]))"
   ]
  },
  {
   "cell_type": "code",
   "execution_count": 5,
   "metadata": {},
   "outputs": [],
   "source": [
    "def create(dirname, destpath):\n",
    "    full_path = os.path.join(destpath, dirname)\n",
    "    os.mkdir(full_path)\n",
    "    return full_path"
   ]
  },
  {
   "cell_type": "code",
   "execution_count": 6,
   "metadata": {},
   "outputs": [],
   "source": [
    "def move(filename, dirpath):\n",
    "    shutil.move(os.path.join(srcpath, filename)\n",
    "    ,dirpath)"
   ]
  },
  {
   "cell_type": "code",
   "execution_count": 7,
   "metadata": {},
   "outputs": [],
   "source": [
    "targets = [\n",
    "    (folder, create(folder, destpath))for folder in destdirs\n",
    "    ]"
   ]
  },
  {
   "cell_type": "code",
   "execution_count": 8,
   "metadata": {},
   "outputs": [],
   "source": [
    "for dirname, full_path in targets:\n",
    "    for filename in srcfiles:\n",
    "        if dirname == filename[10:17]:\n",
    "            move(filename, full_path)"
   ]
  }
 ]
}